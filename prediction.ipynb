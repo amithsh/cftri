{
 "cells": [
  {
   "cell_type": "code",
   "execution_count": 3,
   "metadata": {},
   "outputs": [
    {
     "name": "stdout",
     "output_type": "stream",
     "text": [
      "\n",
      "Training Decision Tree...\n",
      "\n",
      "Training Logistic Regression...\n",
      "\n",
      "Training Random Forest...\n",
      "\n",
      "Training Support Vector Machine...\n",
      "\n",
      "Results for Decision Tree:\n"
     ]
    },
    {
     "ename": "NameError",
     "evalue": "name 'code_to_condition' is not defined",
     "output_type": "error",
     "traceback": [
      "\u001b[0;31m---------------------------------------------------------------------------\u001b[0m",
      "\u001b[0;31mNameError\u001b[0m                                 Traceback (most recent call last)",
      "Cell \u001b[0;32mIn[3], line 55\u001b[0m\n\u001b[1;32m     53\u001b[0m \u001b[38;5;66;03m# Make predictions on the new data\u001b[39;00m\n\u001b[1;32m     54\u001b[0m predicted_code \u001b[38;5;241m=\u001b[39m clf\u001b[38;5;241m.\u001b[39mpredict(pd\u001b[38;5;241m.\u001b[39mDataFrame([input_data]))[\u001b[38;5;241m0\u001b[39m]\n\u001b[0;32m---> 55\u001b[0m predicted_condition \u001b[38;5;241m=\u001b[39m \u001b[43mcode_to_condition\u001b[49m\u001b[38;5;241m.\u001b[39mget(predicted_code, \u001b[38;5;124m\"\u001b[39m\u001b[38;5;124mUnknown\u001b[39m\u001b[38;5;124m\"\u001b[39m)\n\u001b[1;32m     56\u001b[0m \u001b[38;5;28mprint\u001b[39m(\u001b[38;5;124mf\u001b[39m\u001b[38;5;124m\"\u001b[39m\u001b[38;5;124mPredicted Condition: \u001b[39m\u001b[38;5;132;01m{\u001b[39;00mpredicted_condition\u001b[38;5;132;01m}\u001b[39;00m\u001b[38;5;124m\"\u001b[39m)\n",
      "\u001b[0;31mNameError\u001b[0m: name 'code_to_condition' is not defined"
     ]
    }
   ],
   "source": [
    "import pandas as pd\n",
    "from sklearn.model_selection import train_test_split\n",
    "from sklearn.tree import DecisionTreeClassifier\n",
    "from sklearn.linear_model import LogisticRegression\n",
    "from sklearn.ensemble import RandomForestClassifier\n",
    "from sklearn.svm import SVC\n",
    "from sklearn.metrics import accuracy_score, classification_report\n",
    "import joblib\n",
    "\n",
    "# Load the dataset\n",
    "df = pd.read_csv('/home/amith/Desktop/dataset.csv')\n",
    "\n",
    "# Identify features (X) and target variable (y)\n",
    "X = df[['Average Chl a', 'Average Chl b', 'Average Chl a+b', 'SD Chl a', 'SD Chl b', 'SD Chl a+b']]\n",
    "y = df['code']\n",
    "\n",
    "# Split the dataset into training and testing sets\n",
    "X_train, X_test, y_train, y_test = train_test_split(X, y, test_size=0.2, random_state=42)\n",
    "\n",
    "# List of classifiers to compare\n",
    "classifiers = {\n",
    "    'Decision Tree': DecisionTreeClassifier(random_state=42),\n",
    "    'Logistic Regression': LogisticRegression(random_state=42, max_iter=1000),  # Increase max_iter\n",
    "    'Random Forest': RandomForestClassifier(random_state=42),\n",
    "    'Support Vector Machine': SVC(random_state=42)\n",
    "}\n",
    "\n",
    "# Train and save models\n",
    "models = {}\n",
    "for clf_name, clf in classifiers.items():\n",
    "    print(f\"\\nTraining {clf_name}...\")\n",
    "    clf.fit(X_train, y_train)\n",
    "    models[clf_name] = clf\n",
    "\n",
    "# Save all models to a single pickle file\n",
    "joblib.dump(models, 'all_models.pkl')\n",
    "\n",
    "# Now you can use these models for making predictions on new data\n",
    "# For example, you can use the 'input_data' you provided earlier\n",
    "input_data = {\n",
    "    'Average Chl a': 2.2,\n",
    "    'Average Chl b': 3,\n",
    "    'Average Chl a+b': 1,\n",
    "    'SD Chl a': 5,\n",
    "    'SD Chl b': 2,\n",
    "    'SD Chl a+b': 2,\n",
    "}\n",
    "\n",
    "# Load models and make predictions\n",
    "loaded_models = joblib.load('all_models.pkl')\n",
    "for clf_name, clf in loaded_models.items():\n",
    "    print(f\"\\nResults for {clf_name}:\")\n",
    "    # Make predictions on the new data\n",
    "    predicted_code = clf.predict(pd.DataFrame([input_data]))[0]\n",
    "    predicted_condition = code_to_condition.get(predicted_code, \"Unknown\")\n",
    "    print(f\"Predicted Condition: {predicted_condition}\")\n"
   ]
  },
  {
   "cell_type": "code",
   "execution_count": null,
   "metadata": {},
   "outputs": [],
   "source": []
  }
 ],
 "metadata": {
  "kernelspec": {
   "display_name": "Python 3 (ipykernel)",
   "language": "python",
   "name": "python3"
  },
  "language_info": {
   "codemirror_mode": {
    "name": "ipython",
    "version": 3
   },
   "file_extension": ".py",
   "mimetype": "text/x-python",
   "name": "python",
   "nbconvert_exporter": "python",
   "pygments_lexer": "ipython3",
   "version": "3.10.12"
  }
 },
 "nbformat": 4,
 "nbformat_minor": 4
}
